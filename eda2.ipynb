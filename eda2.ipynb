{
 "cells": [
  {
   "cell_type": "code",
   "execution_count": 1,
   "metadata": {},
   "outputs": [],
   "source": [
    "from pyspark.sql.functions import col\n",
    "from pyspark.sql.functions import explode\n",
    "from pyspark.ml.feature import StringIndexer\n",
    "from pyspark.ml.feature import IndexToString\n",
    "from pyspark.ml.feature import VectorAssembler\n",
    "from pyspark.ml.evaluation import RegressionEvaluator\n",
    "from pyspark.ml.regression import DecisionTreeRegressor\n",
    "from pyspark.ml.regression import RandomForestRegressor\n",
    "from pyspark.ml.regression import LinearRegression\n",
    "from pyspark.ml.regression import GBTRegressor\n",
    "from pyspark.ml.regression import GeneralizedLinearRegression\n",
    "from pyspark.ml.feature import StandardScaler\n",
    "from pyspark.ml import Pipeline\n",
    "from pyspark.ml.evaluation import MulticlassClassificationEvaluator"
   ]
  },
  {
   "cell_type": "code",
   "execution_count": 2,
   "metadata": {},
   "outputs": [],
   "source": [
    "from pypio import pypio"
   ]
  },
  {
   "cell_type": "code",
   "execution_count": 3,
   "metadata": {},
   "outputs": [],
   "source": [
    "pypio.init()"
   ]
  },
  {
   "cell_type": "code",
   "execution_count": 4,
   "metadata": {},
   "outputs": [],
   "source": [
    "event_df = pypio.find('BHPApp')"
   ]
  },
  {
   "cell_type": "code",
   "execution_count": 5,
   "metadata": {},
   "outputs": [
    {
     "name": "stdout",
     "output_type": "stream",
     "text": [
      "+--------------------+-----+----------+--------+----------------+--------------+--------------------+----+----+--------------------+--------------------+\n",
      "|             eventId|event|entityType|entityId|targetEntityType|targetEntityId|           eventTime|tags|prId|        creationTime|              fields|\n",
      "+--------------------+-----+----------+--------+----------------+--------------+--------------------+----+----+--------------------+--------------------+\n",
      "|AB_QOXJybhjjJCYSL...| $set|      user|     316|            null|          null|2018-08-30 07:34:...|    |null|2018-08-30 07:34:...|Map(MEDV -> 17.8,...|\n",
      "|AEtI9wjvz8pi5DM8U...| $set|      user|     459|            null|          null|2018-08-30 07:34:...|    |null|2018-08-30 07:34:...|Map(MEDV -> 20.0,...|\n",
      "|AH2_kZ-XQS5xnm6a0...| $set|      user|     357|            null|          null|2018-08-30 07:34:...|    |null|2018-08-30 07:34:...|Map(MEDV -> 21.7,...|\n",
      "|AsI81-tbLNnsuRqyk...| $set|      user|     164|            null|          null|2018-08-30 07:34:...|    |null|2018-08-30 07:34:...|Map(MEDV -> 22.7,...|\n",
      "|AvsFjW8ChPfetU4XZ...| $set|      user|     469|            null|          null|2018-08-30 07:34:...|    |null|2018-08-30 07:34:...|Map(MEDV -> 20.1,...|\n",
      "+--------------------+-----+----------+--------+----------------+--------------+--------------------+----+----+--------------------+--------------------+\n",
      "only showing top 5 rows\n",
      "\n"
     ]
    }
   ],
   "source": [
    "event_df.show(5)"
   ]
  },
  {
   "cell_type": "code",
   "execution_count": 6,
   "metadata": {},
   "outputs": [],
   "source": [
    "def get_field_type(name):\n",
    "    return 'double'\n",
    "\n",
    "field_names = (event_df\n",
    "            .select(explode(\"fields\"))\n",
    "            .select(\"key\")\n",
    "            .distinct()\n",
    "            .rdd.flatMap(lambda x: x)\n",
    "            .collect())\n",
    "field_names.sort()\n",
    "exprs = [col(\"fields\").getItem(k).cast(get_field_type(k)).alias(k) for k in field_names]\n",
    "data_df = event_df.select(*exprs)\n",
    "data_df = data_df.withColumnRenamed(\"MEDV\", \"label\")"
   ]
  },
  {
   "cell_type": "code",
   "execution_count": 7,
   "metadata": {},
   "outputs": [
    {
     "name": "stdout",
     "output_type": "stream",
     "text": [
      "+----+------+----+------------------+------------------+-----+-----+-----+-----+-------+----+-----------------+-----+---+\n",
      "| AGE|     B|CHAS|              CRIM|               DIS|INDUS|LSTAT|label|  NOX|PTRATIO| RAD|               RM|  TAX| ZN|\n",
      "+----+------+----+------------------+------------------+-----+-----+-----+-----+-------+----+-----------------+-----+---+\n",
      "|83.2| 390.7| 0.0|           0.31827|            3.9986|  9.9|18.33| 17.8|0.544|   18.4| 4.0|            5.914|304.0|0.0|\n",
      "|84.4| 396.9| 0.0|           6.80117|            2.7175| 18.1| 14.7| 20.0|0.713|   20.2|24.0|            6.081|666.0|0.0|\n",
      "|91.0|391.34| 1.0|            3.8497|            2.5052| 18.1|13.27| 21.7| 0.77|   20.2|24.0|            6.395|666.0|0.0|\n",
      "|91.8|395.11| 0.0|2.2423599999999997|2.4219999999999997|19.58|11.64| 22.7|0.605|   14.7| 5.0|            5.854|403.0|0.0|\n",
      "|56.7| 396.9| 0.0|           13.0751|            2.8237| 18.1|14.76| 20.1| 0.58|   20.2|24.0|5.712999999999999|666.0|0.0|\n",
      "+----+------+----+------------------+------------------+-----+-----+-----+-----+-------+----+-----------------+-----+---+\n",
      "only showing top 5 rows\n",
      "\n"
     ]
    }
   ],
   "source": [
    "data_df.show(5)"
   ]
  },
  {
   "cell_type": "code",
   "execution_count": 8,
   "metadata": {},
   "outputs": [],
   "source": [
    "(train_df, test_df) = data_df.randomSplit([0.9, 0.1])"
   ]
  },
  {
   "cell_type": "code",
   "execution_count": 9,
   "metadata": {},
   "outputs": [],
   "source": [
    "featureAssembler = VectorAssembler(inputCols=[x for x in field_names if x != 'MEDV'],\n",
    "                                   outputCol=\"rawFeatures\")\n",
    "scaler = StandardScaler(inputCol=\"rawFeatures\", outputCol=\"features\")\n",
    "clf = RandomForestRegressor(featuresCol=\"features\", labelCol=\"label\", predictionCol=\"prediction\",\n",
    "                            maxDepth=5, maxBins=32, minInstancesPerNode=1, minInfoGain=0.0,\n",
    "                            maxMemoryInMB=256, cacheNodeIds=False, checkpointInterval=10,\n",
    "                            impurity=\"variance\", subsamplingRate=1.0, seed=None, numTrees=20,\n",
    "                            featureSubsetStrategy=\"auto\")\n",
    "pipeline = Pipeline(stages=[featureAssembler, scaler, clf])"
   ]
  },
  {
   "cell_type": "code",
   "execution_count": 10,
   "metadata": {},
   "outputs": [],
   "source": [
    "model = pipeline.fit(train_df)"
   ]
  },
  {
   "cell_type": "code",
   "execution_count": 11,
   "metadata": {},
   "outputs": [],
   "source": [
    "predict_df = model.transform(test_df)"
   ]
  },
  {
   "cell_type": "code",
   "execution_count": 12,
   "metadata": {},
   "outputs": [
    {
     "name": "stdout",
     "output_type": "stream",
     "text": [
      "+------------------+-----+\n",
      "|        prediction|label|\n",
      "+------------------+-----+\n",
      "| 24.65159820107046| 25.3|\n",
      "|25.123165807614374| 23.7|\n",
      "|25.525293402054672| 26.2|\n",
      "| 33.11138915788179| 33.1|\n",
      "| 21.70422839592778| 22.6|\n",
      "+------------------+-----+\n",
      "only showing top 5 rows\n",
      "\n"
     ]
    }
   ],
   "source": [
    "predict_df.select(\"prediction\", \"label\").show(5)"
   ]
  },
  {
   "cell_type": "code",
   "execution_count": 13,
   "metadata": {},
   "outputs": [
    {
     "name": "stdout",
     "output_type": "stream",
     "text": [
      "Root Mean Squared Error (RMSE) on test data = 2.81152\n"
     ]
    }
   ],
   "source": [
    "evaluator = RegressionEvaluator(labelCol=\"label\", predictionCol=\"prediction\", metricName=\"rmse\")\n",
    "rmse = evaluator.evaluate(predict_df)\n",
    "print(\"Root Mean Squared Error (RMSE) on test data = %g\" % rmse)"
   ]
  },
  {
   "cell_type": "code",
   "execution_count": null,
   "metadata": {},
   "outputs": [],
   "source": []
  }
 ],
 "metadata": {
  "kernelspec": {
   "display_name": "Python 2",
   "language": "python",
   "name": "python2"
  },
  "language_info": {
   "codemirror_mode": {
    "name": "ipython",
    "version": 2
   },
   "file_extension": ".py",
   "mimetype": "text/x-python",
   "name": "python",
   "nbconvert_exporter": "python",
   "pygments_lexer": "ipython2",
   "version": "2.7.12"
  }
 },
 "nbformat": 4,
 "nbformat_minor": 2
}
